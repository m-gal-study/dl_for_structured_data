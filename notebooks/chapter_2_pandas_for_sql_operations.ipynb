{
 "cells": [
  {
   "cell_type": "markdown",
   "metadata": {},
   "source": [
    "# Pandas equivalents for common SQL operations\n",
    "- this notebook shows the Pandas equivalents for some common SQL operations"
   ]
  },
  {
   "cell_type": "markdown",
   "metadata": {},
   "source": [
    "# Import libraries and ingest data\n",
    "- load one sheet from the streetcar delay dataset into a Pandas dataframe"
   ]
  },
  {
   "cell_type": "code",
   "execution_count": 8,
   "metadata": {},
   "outputs": [],
   "source": [
    "import numpy as np # linear algebra\n",
    "import pandas as pd # data processing, CSV file I/O (e.g. pd.read_csv)\n",
    "import datetime\n",
    "import os\n"
   ]
  },
  {
   "cell_type": "code",
   "execution_count": 9,
   "metadata": {
    "tags": []
   },
   "outputs": [
    {
     "output_type": "stream",
     "name": "stdout",
     "text": [
      "raw path is t:\\Documents\\DataProjects\\tutorial_keras\\py_dl_for_structured_data\\notebooks\n"
     ]
    }
   ],
   "source": [
    "# get the directory for that this notebook is in\n",
    "rawpath = os.getcwd()\n",
    "print(\"raw path is\",rawpath)"
   ]
  },
  {
   "cell_type": "code",
   "execution_count": 10,
   "metadata": {
    "tags": []
   },
   "outputs": [
    {
     "output_type": "stream",
     "name": "stdout",
     "text": [
      "path is t:\\Documents\\DataProjects\\tutorial_keras\\py_dl_for_structured_data\\data\n"
     ]
    }
   ],
   "source": [
    "# data is in a directory called \"data\" that is a sibling to the directory containing the notebook\n",
    "# this code assumes you have copied to this directory all the XLS files from the source dataset: https://www.toronto.ca/city-government/data-research-maps/open-data/open-data-catalogue/#e8f359f0-2f47-3058-bf64-6ec488de52da\n",
    "path = os.path.abspath(os.path.join(rawpath, '..', 'data'))\n",
    "print(\"path is\", path)"
   ]
  },
  {
   "cell_type": "code",
   "execution_count": 11,
   "metadata": {},
   "outputs": [],
   "source": [
    "# dataset into Pandas dataframe\n",
    "file = \"Streetcar Jan 2014.csv\"\n",
    "streetcarjan2014=pd.read_csv(os.path.join(path,file))"
   ]
  },
  {
   "cell_type": "markdown",
   "metadata": {},
   "source": [
    "# Show SQL / Pandas equivalent statements\n",
    "- in the following cells, each Python statement is preceded by a comment that shows the SQL that would produce the same result as the Python statement"
   ]
  },
  {
   "cell_type": "code",
   "execution_count": 12,
   "metadata": {},
   "outputs": [
    {
     "output_type": "execute_result",
     "data": {
      "text/plain": [
       "  Report Date  Route         Time       Day                   Location  \\\n",
       "0  2014-01-02    505   6:31:00 AM  Thursday    Dundas and Roncesvalles   \n",
       "1  2014-01-02    504  12:43:00 PM  Thursday              King and Shaw   \n",
       "2  2014-01-02    501   2:01:00 PM  Thursday  Kingston road and Bingham   \n",
       "\n",
       "              Incident  Min Delay  Min Gap Direction  Vehicle  \n",
       "0  Late Leaving Garage          4      8.0       E/B   4018.0  \n",
       "1   Utilized Off Route         20     22.0       E/B   4128.0  \n",
       "2              Held By         13     19.0       W/B   4016.0  "
      ],
      "text/html": "<div>\n<style scoped>\n    .dataframe tbody tr th:only-of-type {\n        vertical-align: middle;\n    }\n\n    .dataframe tbody tr th {\n        vertical-align: top;\n    }\n\n    .dataframe thead th {\n        text-align: right;\n    }\n</style>\n<table border=\"1\" class=\"dataframe\">\n  <thead>\n    <tr style=\"text-align: right;\">\n      <th></th>\n      <th>Report Date</th>\n      <th>Route</th>\n      <th>Time</th>\n      <th>Day</th>\n      <th>Location</th>\n      <th>Incident</th>\n      <th>Min Delay</th>\n      <th>Min Gap</th>\n      <th>Direction</th>\n      <th>Vehicle</th>\n    </tr>\n  </thead>\n  <tbody>\n    <tr>\n      <th>0</th>\n      <td>2014-01-02</td>\n      <td>505</td>\n      <td>6:31:00 AM</td>\n      <td>Thursday</td>\n      <td>Dundas and Roncesvalles</td>\n      <td>Late Leaving Garage</td>\n      <td>4</td>\n      <td>8.0</td>\n      <td>E/B</td>\n      <td>4018.0</td>\n    </tr>\n    <tr>\n      <th>1</th>\n      <td>2014-01-02</td>\n      <td>504</td>\n      <td>12:43:00 PM</td>\n      <td>Thursday</td>\n      <td>King and Shaw</td>\n      <td>Utilized Off Route</td>\n      <td>20</td>\n      <td>22.0</td>\n      <td>E/B</td>\n      <td>4128.0</td>\n    </tr>\n    <tr>\n      <th>2</th>\n      <td>2014-01-02</td>\n      <td>501</td>\n      <td>2:01:00 PM</td>\n      <td>Thursday</td>\n      <td>Kingston road and Bingham</td>\n      <td>Held By</td>\n      <td>13</td>\n      <td>19.0</td>\n      <td>W/B</td>\n      <td>4016.0</td>\n    </tr>\n  </tbody>\n</table>\n</div>"
     },
     "metadata": {},
     "execution_count": 12
    }
   ],
   "source": [
    "# select * from streetcarjan2014 limit 3\n",
    "streetcarjan2014.head(3)"
   ]
  },
  {
   "cell_type": "code",
   "execution_count": 13,
   "metadata": {},
   "outputs": [
    {
     "output_type": "execute_result",
     "data": {
      "text/plain": [
       "1    504\n",
       "Name: Route, dtype: int64"
      ]
     },
     "metadata": {},
     "execution_count": 13
    }
   ],
   "source": [
    "# single condition on a Select\n",
    "# select \"Route\" from streetcarjan2014 where \"Location \" = 'King and Shaw'\n",
    "streetcarjan2014[streetcarjan2014.Location == \"King and Shaw\"].Route"
   ]
  },
  {
   "cell_type": "code",
   "execution_count": null,
   "metadata": {},
   "outputs": [],
   "source": [
    "# unique entries in a column\n",
    "# select distinct \"Incident\" from streetcarjan2014\n",
    "streetcarjan2014.Incident.unique()"
   ]
  },
  {
   "cell_type": "code",
   "execution_count": null,
   "metadata": {},
   "outputs": [],
   "source": [
    "# multiple conditions on a Select\n",
    "# select * from streetcarjan2014 where 'Min Delay' > 20 and Day = \"Sunday\"\n",
    "streetcarjan2014[(streetcarjan2014['Min Delay'] > 20) & (streetcarjan2014['Day'] == \"Sunday\")]\n"
   ]
  },
  {
   "cell_type": "code",
   "execution_count": null,
   "metadata": {},
   "outputs": [],
   "source": [
    "# ORDER BY\n",
    "# select \"Route\", \"Min Delay\" from streetcarjan2014 where \"Min Delay\" > 20 order by \"Min Delay\"\n",
    "streetcarjan2014[['Route','Min Delay']][(streetcarjan2014['Min Delay'] > 20)].sort_values('Min Delay')\n"
   ]
  },
  {
   "cell_type": "code",
   "execution_count": null,
   "metadata": {},
   "outputs": [],
   "source": []
  }
 ],
 "metadata": {
  "kernelspec": {
   "display_name": "Python 3.8.5 64-bit ('base': conda)",
   "language": "python",
   "name": "python38564bitbasecondad6afa4365cb9418c95d2fa78af66853a"
  },
  "language_info": {
   "codemirror_mode": {
    "name": "ipython",
    "version": 3
   },
   "file_extension": ".py",
   "mimetype": "text/x-python",
   "name": "python",
   "nbconvert_exporter": "python",
   "pygments_lexer": "ipython3",
   "version": "3.8.3-final"
  }
 },
 "nbformat": 4,
 "nbformat_minor": 2
}